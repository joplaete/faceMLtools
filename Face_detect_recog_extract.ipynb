{
  "nbformat": 4,
  "nbformat_minor": 0,
  "metadata": {
    "colab": {
      "name": "Face_detect_recog_extract.ipynb",
      "provenance": [],
      "collapsed_sections": [],
      "machine_shape": "hm",
      "authorship_tag": "ABX9TyOuRwcIeaEyRncxr8vWJQVt",
      "include_colab_link": true
    },
    "kernelspec": {
      "name": "python3",
      "display_name": "Python 3"
    },
    "language_info": {
      "name": "python"
    },
    "accelerator": "GPU"
  },
  "cells": [
    {
      "cell_type": "markdown",
      "metadata": {
        "id": "view-in-github",
        "colab_type": "text"
      },
      "source": [
        "<a href=\"https://colab.research.google.com/github/joplaete/faceMLtools/blob/main/Face_detect_recog_extract.ipynb\" target=\"_parent\"><img src=\"https://colab.research.google.com/assets/colab-badge.svg\" alt=\"Open In Colab\"/></a>"
      ]
    },
    {
      "cell_type": "code",
      "execution_count": 1,
      "metadata": {
        "colab": {
          "base_uri": "https://localhost:8080/"
        },
        "id": "3JaVHHmKd9i3",
        "outputId": "218d4794-9a45-4562-cb46-93367c4b3687"
      },
      "outputs": [
        {
          "output_type": "stream",
          "name": "stdout",
          "text": [
            "Requirement already satisfied: opencv-python in /usr/local/lib/python3.7/dist-packages (4.1.2.30)\n",
            "Requirement already satisfied: numpy>=1.14.5 in /usr/local/lib/python3.7/dist-packages (from opencv-python) (1.19.5)\n",
            "Requirement already satisfied: pillow in /usr/local/lib/python3.7/dist-packages (7.1.2)\n",
            "Collecting face-recognition\n",
            "  Downloading face_recognition-1.3.0-py2.py3-none-any.whl (15 kB)\n",
            "Requirement already satisfied: dlib>=19.7 in /usr/local/lib/python3.7/dist-packages (from face-recognition) (19.18.0)\n",
            "Requirement already satisfied: Pillow in /usr/local/lib/python3.7/dist-packages (from face-recognition) (7.1.2)\n",
            "Requirement already satisfied: numpy in /usr/local/lib/python3.7/dist-packages (from face-recognition) (1.19.5)\n",
            "Collecting face-recognition-models>=0.3.0\n",
            "  Downloading face_recognition_models-0.3.0.tar.gz (100.1 MB)\n",
            "\u001b[K     |████████████████████████████████| 100.1 MB 1.1 MB/s \n",
            "\u001b[?25hRequirement already satisfied: Click>=6.0 in /usr/local/lib/python3.7/dist-packages (from face-recognition) (7.1.2)\n",
            "Building wheels for collected packages: face-recognition-models\n",
            "  Building wheel for face-recognition-models (setup.py) ... \u001b[?25l\u001b[?25hdone\n",
            "  Created wheel for face-recognition-models: filename=face_recognition_models-0.3.0-py2.py3-none-any.whl size=100566186 sha256=59f8e3bd31bf926c3116497c17c72d9bfafd752360aadf94de77a6626387d5ef\n",
            "  Stored in directory: /root/.cache/pip/wheels/d6/81/3c/884bcd5e1c120ff548d57c2ecc9ebf3281c9a6f7c0e7e7947a\n",
            "Successfully built face-recognition-models\n",
            "Installing collected packages: face-recognition-models, face-recognition\n",
            "Successfully installed face-recognition-1.3.0 face-recognition-models-0.3.0\n",
            "--2022-01-18 22:16:10--  https://raw.githubusercontent.com/opencv/opencv/master/data/haarcascades/haarcascade_frontalface_alt2.xml\n",
            "Resolving raw.githubusercontent.com (raw.githubusercontent.com)... 185.199.108.133, 185.199.109.133, 185.199.110.133, ...\n",
            "Connecting to raw.githubusercontent.com (raw.githubusercontent.com)|185.199.108.133|:443... connected.\n",
            "HTTP request sent, awaiting response... 200 OK\n",
            "Length: 540616 (528K) [text/plain]\n",
            "Saving to: ‘haarcascade_frontalface_alt2.xml’\n",
            "\n",
            "haarcascade_frontal 100%[===================>] 527.95K  --.-KB/s    in 0.02s   \n",
            "\n",
            "2022-01-18 22:16:10 (34.1 MB/s) - ‘haarcascade_frontalface_alt2.xml’ saved [540616/540616]\n",
            "\n"
          ]
        }
      ],
      "source": [
        "!pip install opencv-python\n",
        "!pip install pillow\n",
        "\n",
        "!pip install face-recognition\n",
        "\n",
        "!wget https://raw.githubusercontent.com/opencv/opencv/master/data/haarcascades/haarcascade_frontalface_alt2.xml"
      ]
    },
    {
      "cell_type": "code",
      "source": [
        "# make sure you got a gpu runtime!\n",
        "!nvidia-smi"
      ],
      "metadata": {
        "colab": {
          "base_uri": "https://localhost:8080/"
        },
        "id": "lH32ZEF28G3Z",
        "outputId": "4514a887-de46-4285-f73f-b0ea6586a863"
      },
      "execution_count": 2,
      "outputs": [
        {
          "output_type": "stream",
          "name": "stdout",
          "text": [
            "Tue Jan 18 22:16:43 2022       \n",
            "+-----------------------------------------------------------------------------+\n",
            "| NVIDIA-SMI 495.46       Driver Version: 460.32.03    CUDA Version: 11.2     |\n",
            "|-------------------------------+----------------------+----------------------+\n",
            "| GPU  Name        Persistence-M| Bus-Id        Disp.A | Volatile Uncorr. ECC |\n",
            "| Fan  Temp  Perf  Pwr:Usage/Cap|         Memory-Usage | GPU-Util  Compute M. |\n",
            "|                               |                      |               MIG M. |\n",
            "|===============================+======================+======================|\n",
            "|   0  Tesla P100-PCIE...  Off  | 00000000:00:04.0 Off |                    0 |\n",
            "| N/A   35C    P0    27W / 250W |      0MiB / 16280MiB |      0%      Default |\n",
            "|                               |                      |                  N/A |\n",
            "+-------------------------------+----------------------+----------------------+\n",
            "                                                                               \n",
            "+-----------------------------------------------------------------------------+\n",
            "| Processes:                                                                  |\n",
            "|  GPU   GI   CI        PID   Type   Process name                  GPU Memory |\n",
            "|        ID   ID                                                   Usage      |\n",
            "|=============================================================================|\n",
            "|  No running processes found                                                 |\n",
            "+-----------------------------------------------------------------------------+\n"
          ]
        }
      ]
    },
    {
      "cell_type": "code",
      "source": [
        "#@title Connect your drive that hosts your files\n",
        "from google.colab import drive\n",
        "drive.mount('/content/drive')"
      ],
      "metadata": {
        "colab": {
          "base_uri": "https://localhost:8080/"
        },
        "id": "8lU5JD3LltQn",
        "outputId": "d6c1eb24-62c5-422a-e38b-006ed557db88"
      },
      "execution_count": 3,
      "outputs": [
        {
          "output_type": "stream",
          "name": "stdout",
          "text": [
            "Mounted at /content/drive\n"
          ]
        }
      ]
    },
    {
      "cell_type": "code",
      "source": [
        "#@title Imports and Supporting Function, run once\n",
        "import face_recognition\n",
        "import cv2\n",
        "from PIL import Image\n",
        "import os, time\n",
        "import numpy as np\n",
        "\n",
        "def image_resize(image, width = None, height = None, inter = cv2.INTER_AREA):\n",
        "    dim = None\n",
        "    (h, w) = image.shape[:2]\n",
        "    if width is None and height is None:\n",
        "        return image\n",
        "    if width is None:\n",
        "        r = height / float(h)\n",
        "        dim = (int(w * r), height)\n",
        "    else:\n",
        "        r = width / float(w)\n",
        "        dim = (width, int(h * r))\n",
        "    resized = cv2.resize(image, dim, interpolation = inter)\n",
        "   return resized"
      ],
      "metadata": {
        "id": "XuBiLmCpl2c_"
      },
      "execution_count": 4,
      "outputs": []
    },
    {
      "cell_type": "code",
      "source": [
        "#@title Compute encodings for Face Recognition\n",
        "\n",
        "# images of person to find (helps to align them first)\n",
        "person_to_find_images = r\"/content/drive/MyDrive/FACE_RECOG_EXTRACT/PERSON_TO_FIND/daniel_craig/aligned\" # @param str\n",
        "# encodings get saved and re-used if found in folder, unless force_recompute is on\n",
        "force_recompute = True #@param {type:\"boolean\"}\n",
        "\n",
        "encodings_path = os.path.join(person_to_find_images, 'encodings.npy')\n",
        "encodings = []\n",
        "if not force_recompute and os.path.exists(encodings_path):\n",
        "    print('Found and using existing encoding: ', encodings_path)\n",
        "    print('(delete this or enabled force_recompute to recompute when image set has changed)')\n",
        "    encodings = np.load(encodings_path)\n",
        "else:\n",
        "    print('Build face encodings')\n",
        "    for im in os.listdir(person_to_find_images):\n",
        "        if not 'jpg' in im: continue\n",
        "        known_image = face_recognition.load_image_file(os.path.join(person_to_find_images, im))\n",
        "        encoding = face_recognition.face_encodings(known_image)\n",
        "        if len(encoding):\n",
        "            print('-->> Adding: ', im)\n",
        "            encodings.append(encoding[0])\n",
        "np.save(encodings_path, encodings)"
      ],
      "metadata": {
        "colab": {
          "base_uri": "https://localhost:8080/"
        },
        "id": "Ln9OxXKEoZvm",
        "outputId": "9b9de0d5-1b49-45a1-928e-58f3026c35af"
      },
      "execution_count": 7,
      "outputs": [
        {
          "output_type": "stream",
          "name": "stdout",
          "text": [
            "Build face encodings\n",
            "-->> Adding:  000047.jpg.jpg\n",
            "-->> Adding:  000528.jpg.jpg\n",
            "-->> Adding:  daniel_craig_0002.jpg.jpg\n",
            "-->> Adding:  daniel_craig_0001.jpg.jpg\n",
            "-->> Adding:  daniel_craig_0003.jpg.jpg\n",
            "-->> Adding:  daniel_craig_0004.jpg.jpg\n",
            "-->> Adding:  daniel_craig_0005.jpg.jpg\n",
            "-->> Adding:  daniel_craig_0007.jpg.jpg\n",
            "-->> Adding:  daniel_craig_0011.jpg.jpg\n",
            "-->> Adding:  daniel_craig_0013.jpg.jpg\n",
            "-->> Adding:  daniel_craig_0012.jpg.jpg\n",
            "-->> Adding:  daniel_craig_0015.jpg.jpg\n",
            "-->> Adding:  daniel_craig_0018.jpg.jpg\n",
            "-->> Adding:  daniel_craig_0019.jpg.jpg\n",
            "-->> Adding:  daniel_craig_0020.jpg.jpg\n",
            "-->> Adding:  daniel_craig_0021.jpg.jpg\n",
            "-->> Adding:  daniel_craig_0022.jpg.jpg\n",
            "-->> Adding:  daniel_craig_0024.jpg.jpg\n",
            "-->> Adding:  daniel_craig_0025.jpg.jpg\n",
            "-->> Adding:  interview1.jpg\n",
            "-->> Adding:  interview1_01.jpg\n",
            "-->> Adding:  interview2_01.jpg\n",
            "-->> Adding:  interview2_02.jpg\n",
            "-->> Adding:  interview2_03.jpg\n",
            "-->> Adding:  interview3_01.jpg\n",
            "-->> Adding:  interview3_02.jpg\n"
          ]
        }
      ]
    },
    {
      "cell_type": "code",
      "source": [
        "#@title Find and Extract Recognized faces\n",
        "\n",
        "mp4path = r\"/content/drive/MyDrive/FACE_RECOG_EXTRACT/MEDIA_TO_SEARCH/Daniel Craig James Bond Monologue - SNL.mp4\" # @param str\n",
        "\n",
        "# OUT    \n",
        "out = r\"/content/drive/MyDrive/FACE_RECOG_EXTRACT/OUT/daniel_craig__late_night_show\" # @param str\n",
        "out_prexix = r'out.' # @param str\n",
        "if not os.path.exists(out):\n",
        "    os.mkdir(out)\n",
        "\n",
        "# use 1 not 0 for start \n",
        "start_offset =  500# @param int\n",
        "limit_frames =-1 # @param int # handy for testing, will only compute limit_frames\n",
        "vidcap =  cv2.VideoCapture(mp4path)\n",
        "vidcap.set(cv2.CAP_PROP_POS_FRAMES, start_offset-1)\n",
        "print('cv2.CAP_PROP_POS_FRAMES:',cv2.CAP_PROP_POS_FRAMES)\n",
        "\n",
        "print('\\n START PROCESSING', vidcap)\n",
        "print(mp4path)\n",
        "print(out)\n",
        "print('\\n\\n')\n",
        "\n",
        "success, image = vidcap.read()\n",
        "frame_count = vidcap.get(cv2.CAP_PROP_FRAME_COUNT)\n",
        "face_cascade = cv2.CascadeClassifier(r\"/content/haarcascade_frontalface_alt2.xml\")\n",
        "\n",
        "count = start_offset-1\n",
        "while success:\n",
        "    # cv2.imwrite(\"frame%d.jpg\" % count, image)     # save frame as JPEG file      \n",
        "    # if count < clamp_start or count > clamp_end:\n",
        "    #     count+=1\n",
        "    #     print('skip', count)\n",
        "    #     continue\n",
        "    print('\\nProcess frame: ', count, '/', int(frame_count), '  --  ', round(count/frame_count*100), '%')\n",
        "    # print(mp4path, out)\n",
        "    \n",
        "    success, image = vidcap.read()\n",
        "    if not success:\n",
        "        print('-- FRAME READ FAILED, aborting.')\n",
        "        break\n",
        "\n",
        "    imshowname = os.path.split(mp4path)[1] + ' (RESIZED for PREVIEW)'\n",
        "    # cv2.imshow(imshowname, image_resize(image, height = 800))\n",
        "    # cv2.waitKey(1)\n",
        "\n",
        "    gray = cv2.cvtColor(image, cv2.COLOR_BGR2GRAY)\n",
        "    \n",
        "    # # Detect faces using opencv\n",
        "    faces = face_cascade.detectMultiScale(gray, 1.1, 5)\n",
        "    print('>> Found', len(faces),'face(s)')\n",
        "    if len(faces) > 6: continue\n",
        "    padding = 150 # @param float # padding for extraction\n",
        "    min_face_size =  60# @param float # skip w or h smaller than this\n",
        "    for i, (x, y, w, h) in enumerate(faces):\n",
        "        print('------ Face', i)\n",
        "        if h < min_face_size: print(f'too small ({min_face_size})'); continue\n",
        "        if w < min_face_size: print(f'too small ({min_face_size})'); continue\n",
        "        preview = image\n",
        "        # preview = cv2.rectangle(image, (x-padding,y-padding), (x+w+padding,y+h+padding), (200,200,200), 15)\n",
        "        # cv2.imshow(imshowname, image_resize(preview, height = 800))\n",
        "        # cv2.waitKey(1)\n",
        "        # cv2.rectangle(image, (x-padding, y-padding), (x+w+padding, y+h+padding),\n",
        "                    # (0, 0, 255), 2)\n",
        "        # print('Face: ',x,y,w,h)\n",
        "        face = image[y-padding:y + h+padding, x-padding:x + w+padding]\n",
        "        # # face_grey = gray[y-padding:y + h+padding, x-padding:x + w+padding]\n",
        "\n",
        "        # protect against dodgy images\n",
        "        if face.shape[0]==0 or face.shape[1]==0: continue\n",
        "        # cv2.imshow(\"face\", face)\n",
        "        # cv2.waitKey(0) \n",
        "        # cv2.destroyAllWindows() \n",
        "\n",
        "        # print('**** comparing --', x,y,w,h)\n",
        "        unknown_image = face#face_recognition.load_image_file(r\"C:\\Users\\jopla\\Projects\\face_extractor\\datasets\\daniel_craig\\daniel_craig_0012.jpg\")\n",
        "        unknown_image = cv2.cvtColor(unknown_image, cv2.COLOR_BGR2RGB)\n",
        "        unknown_image = np.array(Image.fromarray(unknown_image))\n",
        "        unknown_encodings = face_recognition.face_encodings(unknown_image)\n",
        "        if len(unknown_encodings):\n",
        "            results = face_recognition.compare_faces(encodings, unknown_encodings[0])\n",
        "            print(results)\n",
        "            match_count = results.count(True)\n",
        "            print('Found', match_count, 'matche(s) !')\n",
        "            required_matches =  2# @param int\n",
        "            if match_count >= required_matches:\n",
        "                cv2.imwrite(os.path.join(out,out_prexix+str(count).zfill(6)+'.jpg'), face)\n",
        "                # preview = cv2.circle(face, (50, 50), 25, (0, 255, 0), 25)\n",
        "                # preview = cv2.rectangle(image, (x-padding,y-padding), (x+w+padding,y+h+padding), (0,255,0), 20)\n",
        "                # cv2.imshow(imshowname, image_resize(preview, height = 800))\n",
        "                # cv2.waitKey(1)\n",
        "            else:\n",
        "                # preview = cv2.rectangle(image, (x-padding,y-padding), (x+w+padding,y+h+padding), (0,0,255), 20)\n",
        "                # cv2.imshow(imshowname, image_resize(preview, height = 800))\n",
        "                # cv2.waitKey(1)\n",
        "                pass\n",
        "        else:\n",
        "            print('No encodings found')\n",
        "            pass\n",
        "\n",
        "    count += 1\n",
        "    if limit_frames != -1:\n",
        "      if count > (start_offset+limit_frames): break\n",
        "    # if count>50: break\n",
        "\n",
        "# clean up window when done\n",
        "# cv2.destroyAllWindows()"
      ],
      "metadata": {
        "colab": {
          "base_uri": "https://localhost:8080/",
          "height": 1000
        },
        "id": "zfwhU-RO1dir",
        "outputId": "5a4e92a8-1554-4735-d535-2ba65fce3982"
      },
      "execution_count": 9,
      "outputs": [
        {
          "output_type": "stream",
          "name": "stdout",
          "text": [
            "cv2.CAP_PROP_POS_FRAMES: 1\n",
            "\n",
            " START PROCESSING <VideoCapture 0x7fd1bbf26eb0>\n",
            "/content/drive/MyDrive/FACE_RECOG_EXTRACT/MEDIA_TO_SEARCH/Daniel Craig James Bond Monologue - SNL.mp4\n",
            "/content/drive/MyDrive/FACE_RECOG_EXTRACT/OUT/daniel_craig__late_night_show\n",
            "\n",
            "\n",
            "\n",
            "\n",
            "Process frame:  499 / 10016   --   5 %\n",
            ">> Found 2 face(s)\n",
            "------ Face 0\n",
            "too small (60)\n",
            "------ Face 1\n",
            "too small (60)\n",
            "\n",
            "Process frame:  500 / 10016   --   5 %\n",
            ">> Found 3 face(s)\n",
            "------ Face 0\n",
            "too small (60)\n",
            "------ Face 1\n",
            "too small (60)\n",
            "------ Face 2\n",
            "too small (60)\n",
            "\n",
            "Process frame:  501 / 10016   --   5 %\n",
            ">> Found 4 face(s)\n",
            "------ Face 0\n",
            "too small (60)\n",
            "------ Face 1\n",
            "too small (60)\n",
            "------ Face 2\n",
            "too small (60)\n",
            "------ Face 3\n",
            "too small (60)\n",
            "\n",
            "Process frame:  502 / 10016   --   5 %\n",
            ">> Found 3 face(s)\n",
            "------ Face 0\n",
            "too small (60)\n",
            "------ Face 1\n",
            "too small (60)\n",
            "------ Face 2\n",
            "too small (60)\n",
            "\n",
            "Process frame:  503 / 10016   --   5 %\n",
            ">> Found 2 face(s)\n",
            "------ Face 0\n",
            "too small (60)\n",
            "------ Face 1\n",
            "too small (60)\n",
            "\n",
            "Process frame:  504 / 10016   --   5 %\n",
            ">> Found 2 face(s)\n",
            "------ Face 0\n",
            "too small (60)\n",
            "------ Face 1\n",
            "too small (60)\n",
            "\n",
            "Process frame:  505 / 10016   --   5 %\n"
          ]
        },
        {
          "output_type": "error",
          "ename": "KeyboardInterrupt",
          "evalue": "ignored",
          "traceback": [
            "\u001b[0;31m---------------------------------------------------------------------------\u001b[0m",
            "\u001b[0;31mKeyboardInterrupt\u001b[0m                         Traceback (most recent call last)",
            "\u001b[0;32m<ipython-input-9-2544b4eeeddf>\u001b[0m in \u001b[0;36m<module>\u001b[0;34m()\u001b[0m\n\u001b[1;32m     47\u001b[0m \u001b[0;34m\u001b[0m\u001b[0m\n\u001b[1;32m     48\u001b[0m     \u001b[0;31m# # Detect faces using opencv\u001b[0m\u001b[0;34m\u001b[0m\u001b[0;34m\u001b[0m\u001b[0;34m\u001b[0m\u001b[0m\n\u001b[0;32m---> 49\u001b[0;31m     \u001b[0mfaces\u001b[0m \u001b[0;34m=\u001b[0m \u001b[0mface_cascade\u001b[0m\u001b[0;34m.\u001b[0m\u001b[0mdetectMultiScale\u001b[0m\u001b[0;34m(\u001b[0m\u001b[0mgray\u001b[0m\u001b[0;34m,\u001b[0m \u001b[0;36m1.1\u001b[0m\u001b[0;34m,\u001b[0m \u001b[0;36m5\u001b[0m\u001b[0;34m)\u001b[0m\u001b[0;34m\u001b[0m\u001b[0;34m\u001b[0m\u001b[0m\n\u001b[0m\u001b[1;32m     50\u001b[0m     \u001b[0mprint\u001b[0m\u001b[0;34m(\u001b[0m\u001b[0;34m'>> Found'\u001b[0m\u001b[0;34m,\u001b[0m \u001b[0mlen\u001b[0m\u001b[0;34m(\u001b[0m\u001b[0mfaces\u001b[0m\u001b[0;34m)\u001b[0m\u001b[0;34m,\u001b[0m\u001b[0;34m'face(s)'\u001b[0m\u001b[0;34m)\u001b[0m\u001b[0;34m\u001b[0m\u001b[0;34m\u001b[0m\u001b[0m\n\u001b[1;32m     51\u001b[0m     \u001b[0;32mif\u001b[0m \u001b[0mlen\u001b[0m\u001b[0;34m(\u001b[0m\u001b[0mfaces\u001b[0m\u001b[0;34m)\u001b[0m \u001b[0;34m>\u001b[0m \u001b[0;36m6\u001b[0m\u001b[0;34m:\u001b[0m \u001b[0;32mcontinue\u001b[0m\u001b[0;34m\u001b[0m\u001b[0;34m\u001b[0m\u001b[0m\n",
            "\u001b[0;31mKeyboardInterrupt\u001b[0m: "
          ]
        }
      ]
    },
    {
      "cell_type": "code",
      "source": [
        "#@title ZIP Result\n",
        "zip_dir, out_name = os.path.split(out)\n",
        "zip_path = os.path.join(zip_dir, out_name.replace(' ','')+'.zip')\n",
        "print('Inflating ', out_name, ' ...', )\n",
        "cmd = f\"zip -r {zip_path} {out}\"\n",
        "os.system(cmd)\n",
        "print('Find in Drive =>', zip_path)\n"
      ],
      "metadata": {
        "colab": {
          "base_uri": "https://localhost:8080/"
        },
        "id": "8VAY0x_2RrEP",
        "outputId": "0cbdd777-dfa9-4aee-ddc8-71d61a1db994"
      },
      "execution_count": 16,
      "outputs": [
        {
          "output_type": "stream",
          "name": "stdout",
          "text": [
            "Inflating  daniel_craig__late_night_show  ...\n",
            "Find in Drive => /content/drive/MyDrive/FACE_RECOG_EXTRACT/OUT/daniel_craig__late_night_show.zip\n"
          ]
        }
      ]
    },
    {
      "cell_type": "code",
      "source": [
        "#@title The ZIP already lives in your Drive, will be faster to download it there. Alterntively you can download it here as well.\n",
        "from google.colab import files\n",
        "files.download(zip_path)"
      ],
      "metadata": {
        "colab": {
          "base_uri": "https://localhost:8080/",
          "height": 34
        },
        "id": "qx-Q2nwTTBb2",
        "outputId": "7012ec05-dcf3-497f-eeac-0425a60bea1e"
      },
      "execution_count": 15,
      "outputs": [
        {
          "output_type": "display_data",
          "data": {
            "application/javascript": [
              "\n",
              "    async function download(id, filename, size) {\n",
              "      if (!google.colab.kernel.accessAllowed) {\n",
              "        return;\n",
              "      }\n",
              "      const div = document.createElement('div');\n",
              "      const label = document.createElement('label');\n",
              "      label.textContent = `Downloading \"${filename}\": `;\n",
              "      div.appendChild(label);\n",
              "      const progress = document.createElement('progress');\n",
              "      progress.max = size;\n",
              "      div.appendChild(progress);\n",
              "      document.body.appendChild(div);\n",
              "\n",
              "      const buffers = [];\n",
              "      let downloaded = 0;\n",
              "\n",
              "      const channel = await google.colab.kernel.comms.open(id);\n",
              "      // Send a message to notify the kernel that we're ready.\n",
              "      channel.send({})\n",
              "\n",
              "      for await (const message of channel.messages) {\n",
              "        // Send a message to notify the kernel that we're ready.\n",
              "        channel.send({})\n",
              "        if (message.buffers) {\n",
              "          for (const buffer of message.buffers) {\n",
              "            buffers.push(buffer);\n",
              "            downloaded += buffer.byteLength;\n",
              "            progress.value = downloaded;\n",
              "          }\n",
              "        }\n",
              "      }\n",
              "      const blob = new Blob(buffers, {type: 'application/binary'});\n",
              "      const a = document.createElement('a');\n",
              "      a.href = window.URL.createObjectURL(blob);\n",
              "      a.download = filename;\n",
              "      div.appendChild(a);\n",
              "      a.click();\n",
              "      div.remove();\n",
              "    }\n",
              "  "
            ],
            "text/plain": [
              "<IPython.core.display.Javascript object>"
            ]
          },
          "metadata": {}
        },
        {
          "output_type": "display_data",
          "data": {
            "application/javascript": [
              "download(\"download_fecd66da-3e0f-41e4-a995-af3b4fa75d4c\", \"daniel_craig__late_night_show.zip\", 163433603)"
            ],
            "text/plain": [
              "<IPython.core.display.Javascript object>"
            ]
          },
          "metadata": {}
        }
      ]
    }
  ]
}